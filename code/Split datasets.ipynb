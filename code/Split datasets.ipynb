{
 "cells": [
  {
   "cell_type": "code",
   "execution_count": 1,
   "id": "56caa605",
   "metadata": {},
   "outputs": [],
   "source": [
    "#Example XGBRegression\n",
    "import pandas as pd\n",
    "import numpy as np\n",
    "from numpy import mean\n",
    "from numpy import std\n",
    "import scipy\n",
    "from sklearn.model_selection import GroupKFold\n",
    "from sklearn import linear_model\n",
    "from sklearn.tree import DecisionTreeRegressor\n",
    "from lineartree import RandomForestRegressor\n",
    "from sklearn.linear_model import Ridge\n",
    "from sklearn.linear_model import Lasso\n",
    "from sklearn import metrics\n",
    "import matplotlib.pyplot as plt"
   ]
  },
  {
   "cell_type": "code",
   "execution_count": 2,
   "id": "20ed23ac",
   "metadata": {},
   "outputs": [],
   "source": [
    "# load dataset into Pandas DataFrame (cleaned UV data)\n",
    "df = pd.read_csv('CdSe UV Train Val.csv')\n",
    "df2 = pd.read_csv('CdSe PL Train Val.csv')\n",
    "\n",
    "from sklearn.model_selection import GroupShuffleSplit \n",
    "\n",
    "splitter = GroupShuffleSplit(test_size=.5, n_splits=2, random_state = 1)\n",
    "\n",
    "split = splitter.split(df, groups=df['Expt. No'])\n",
    "train_inds, test_inds = next(split)\n",
    "UV_train = df.iloc[train_inds]\n",
    "UV_train.to_csv('CdSe UV Train Val (50%).csv')  \n",
    "\n",
    "split = splitter.split(df2, groups=df2['Expt. No'])\n",
    "train_inds, test_inds = next(split)\n",
    "PL_train = df2.iloc[train_inds]\n",
    "PL_train.to_csv('CdSe PL Train Val (50%).csv')  \n"
   ]
  },
  {
   "cell_type": "code",
   "execution_count": 3,
   "id": "ed8e8d8f",
   "metadata": {},
   "outputs": [],
   "source": [
    "# load dataset into Pandas DataFrame (cleaned UV data)\n",
    "df = pd.read_csv('CdSe UV Train Val.csv')\n",
    "df2 = pd.read_csv('CdSe PL Train Val.csv')\n",
    "\n",
    "from sklearn.model_selection import GroupShuffleSplit \n",
    "\n",
    "splitter = GroupShuffleSplit(test_size=.75, n_splits=2, random_state = 1)\n",
    "\n",
    "split = splitter.split(df, groups=df['Expt. No'])\n",
    "train_inds, test_inds = next(split)\n",
    "UV_train = df.iloc[train_inds]\n",
    "UV_train.to_csv('CdSe UV Train Val (25%).csv')  \n",
    "\n",
    "split = splitter.split(df2, groups=df2['Expt. No'])\n",
    "train_inds, test_inds = next(split)\n",
    "PL_train = df2.iloc[train_inds]\n",
    "PL_train.to_csv('CdSe PL Train Val (25%).csv')  \n"
   ]
  },
  {
   "cell_type": "code",
   "execution_count": 4,
   "id": "85cb2f0a",
   "metadata": {},
   "outputs": [],
   "source": [
    "# load dataset into Pandas DataFrame (cleaned UV data)\n",
    "df = pd.read_csv('CdSe UV Train Val.csv')\n",
    "df2 = pd.read_csv('CdSe PL Train Val.csv')\n",
    "\n",
    "from sklearn.model_selection import GroupShuffleSplit \n",
    "\n",
    "splitter = GroupShuffleSplit(test_size=.875, n_splits=2, random_state = 1)\n",
    "\n",
    "split = splitter.split(df, groups=df['Expt. No'])\n",
    "train_inds, test_inds = next(split)\n",
    "UV_train = df.iloc[train_inds]\n",
    "UV_train.to_csv('CdSe UV Train Val (12.5%).csv')  \n",
    "\n",
    "split = splitter.split(df2, groups=df2['Expt. No'])\n",
    "train_inds, test_inds = next(split)\n",
    "PL_train = df2.iloc[train_inds]\n",
    "PL_train.to_csv('CdSe PL Train Val (12.5%).csv')  \n"
   ]
  }
 ],
 "metadata": {
  "kernelspec": {
   "display_name": "Python 3 (ipykernel)",
   "language": "python",
   "name": "python3"
  },
  "language_info": {
   "codemirror_mode": {
    "name": "ipython",
    "version": 3
   },
   "file_extension": ".py",
   "mimetype": "text/x-python",
   "name": "python",
   "nbconvert_exporter": "python",
   "pygments_lexer": "ipython3",
   "version": "3.9.12"
  }
 },
 "nbformat": 4,
 "nbformat_minor": 5
}
