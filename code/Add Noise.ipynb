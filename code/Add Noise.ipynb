{
 "cells": [
  {
   "cell_type": "code",
   "execution_count": 1,
   "id": "0a2d38a7",
   "metadata": {},
   "outputs": [],
   "source": [
    "#Example XGBRegression\n",
    "import pandas as pd\n",
    "import numpy as np\n",
    "from numpy import mean\n",
    "from numpy import std\n",
    "import scipy\n",
    "from sklearn.model_selection import GroupKFold\n",
    "from sklearn import linear_model\n",
    "from sklearn.tree import DecisionTreeRegressor\n",
    "from lineartree import RandomForestRegressor\n",
    "from sklearn.linear_model import Ridge\n",
    "from sklearn.linear_model import Lasso\n",
    "from sklearn import metrics\n",
    "import matplotlib.pyplot as plt"
   ]
  },
  {
   "cell_type": "code",
   "execution_count": 2,
   "id": "2b501fb6",
   "metadata": {},
   "outputs": [],
   "source": [
    "# load dataset into Pandas DataFrame (cleaned UV data)\n",
    "df = pd.read_csv('CdSe UV Train Val.csv')\n",
    "df2 = pd.read_csv('CdSe PL Train Val.csv')\n",
    "\n",
    "np.random.seed(0)\n",
    "\n",
    "value = 0.025\n",
    "\n",
    "n = np.shape(df)[0]\n",
    "m = np.shape(df2)[0]\n",
    "\n",
    "df3 = pd.DataFrame(dict(a=np.random.normal(1,value,size=n), b=np.random.normal(1,value,size=n)))\n",
    "df4 = pd.DataFrame(dict(a=np.random.normal(1,value,size=m), b=np.random.normal(1,value,size=m)))\n",
    "\n",
    "df = df.assign(Peak_eV=df3.a*df.Peak_eV)\n",
    "df = df.assign(FWHM_eV=df3.b*df.FWHM_eV)\n",
    "\n",
    "df2 = df2.assign(Peak_eV=df4.a*df2.Peak_eV)\n",
    "df2 = df2.assign(FWHM_eV=df4.b*df2.FWHM_eV)\n",
    "\n",
    "df.to_csv('CdSe UV Train Val (2.5% noise).csv')\n",
    "df2.to_csv('CdSe PL Train Val (2.5% noise).csv')"
   ]
  },
  {
   "cell_type": "code",
   "execution_count": 3,
   "id": "d1859db9",
   "metadata": {},
   "outputs": [],
   "source": [
    "# load dataset into Pandas DataFrame (cleaned UV data)\n",
    "df = pd.read_csv('CdSe UV Train Val.csv')\n",
    "df2 = pd.read_csv('CdSe PL Train Val.csv')\n",
    "\n",
    "np.random.seed(0)\n",
    "\n",
    "value = 0.05\n",
    "\n",
    "n = np.shape(df)[0]\n",
    "m = np.shape(df2)[0]\n",
    "\n",
    "df3 = pd.DataFrame(dict(a=np.random.normal(1,value,size=n), b=np.random.normal(1,value,size=n)))\n",
    "df4 = pd.DataFrame(dict(a=np.random.normal(1,value,size=m), b=np.random.normal(1,value,size=m)))\n",
    "\n",
    "df = df.assign(Peak_eV=df3.a*df.Peak_eV)\n",
    "df = df.assign(FWHM_eV=df3.b*df.FWHM_eV)\n",
    "\n",
    "df2 = df2.assign(Peak_eV=df4.a*df2.Peak_eV)\n",
    "df2 = df2.assign(FWHM_eV=df4.b*df2.FWHM_eV)\n",
    "\n",
    "df.to_csv('CdSe UV Train Val (5% noise).csv')\n",
    "df2.to_csv('CdSe PL Train Val (5% noise).csv')"
   ]
  },
  {
   "cell_type": "code",
   "execution_count": 4,
   "id": "3788715c",
   "metadata": {},
   "outputs": [],
   "source": [
    "# load dataset into Pandas DataFrame (cleaned UV data)\n",
    "df = pd.read_csv('CdSe UV Train Val.csv')\n",
    "df2 = pd.read_csv('CdSe PL Train Val.csv')\n",
    "\n",
    "np.random.seed(0)\n",
    "\n",
    "value = 0.1\n",
    "\n",
    "n = np.shape(df)[0]\n",
    "m = np.shape(df2)[0]\n",
    "\n",
    "df3 = pd.DataFrame(dict(a=np.random.normal(1,value,size=n), b=np.random.normal(1,value,size=n)))\n",
    "df4 = pd.DataFrame(dict(a=np.random.normal(1,value,size=m), b=np.random.normal(1,value,size=m)))\n",
    "\n",
    "df = df.assign(Peak_eV=df3.a*df.Peak_eV)\n",
    "df = df.assign(FWHM_eV=df3.b*df.FWHM_eV)\n",
    "\n",
    "df2 = df2.assign(Peak_eV=df4.a*df2.Peak_eV)\n",
    "df2 = df2.assign(FWHM_eV=df4.b*df2.FWHM_eV)\n",
    "\n",
    "df.to_csv('CdSe UV Train Val (10% noise).csv')\n",
    "df2.to_csv('CdSe PL Train Val (10% noise).csv')"
   ]
  },
  {
   "cell_type": "code",
   "execution_count": null,
   "id": "2e927f96",
   "metadata": {},
   "outputs": [],
   "source": []
  }
 ],
 "metadata": {
  "kernelspec": {
   "display_name": "Python 3 (ipykernel)",
   "language": "python",
   "name": "python3"
  },
  "language_info": {
   "codemirror_mode": {
    "name": "ipython",
    "version": 3
   },
   "file_extension": ".py",
   "mimetype": "text/x-python",
   "name": "python",
   "nbconvert_exporter": "python",
   "pygments_lexer": "ipython3",
   "version": "3.9.12"
  }
 },
 "nbformat": 4,
 "nbformat_minor": 5
}
