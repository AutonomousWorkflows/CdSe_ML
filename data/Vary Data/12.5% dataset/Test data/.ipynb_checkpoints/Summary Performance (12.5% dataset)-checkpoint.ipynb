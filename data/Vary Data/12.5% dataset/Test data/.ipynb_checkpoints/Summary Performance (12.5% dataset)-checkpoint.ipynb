{
 "cells": [
  {
   "cell_type": "code",
   "execution_count": 1,
   "id": "33d50490",
   "metadata": {},
   "outputs": [],
   "source": [
    "import matplotlib\n",
    "import pandas as pd\n",
    "import numpy as np\n",
    "import matplotlib.pyplot as plt\n",
    "import seaborn as sb\n",
    "from sklearn import metrics"
   ]
  },
  {
   "cell_type": "code",
   "execution_count": 2,
   "id": "74d30194",
   "metadata": {},
   "outputs": [],
   "source": [
    "def rae(actual, predicted):\n",
    "    numerator = np.sum(np.abs(predicted - actual))\n",
    "    denominator = np.sum(np.abs(np.mean(actual) - actual))\n",
    "    return numerator / denominator"
   ]
  },
  {
   "cell_type": "code",
   "execution_count": 3,
   "id": "1013e34f",
   "metadata": {},
   "outputs": [],
   "source": [
    "def perf(matrix):\n",
    "    mae = metrics.mean_absolute_error(matrix[:,0], matrix[:,1])\n",
    "    r2 = metrics.r2_score(matrix[:,0], matrix[:,1])\n",
    "    rel = rae(matrix[:,0], matrix[:,1])\n",
    "    rmse = np.sqrt(metrics.mean_squared_error(matrix[:,0], matrix[:,1]))\n",
    "    return np.array([[mae],[r2],[rel],[rmse]])"
   ]
  },
  {
   "cell_type": "code",
   "execution_count": 4,
   "id": "1494eac3",
   "metadata": {},
   "outputs": [],
   "source": [
    "#Import Test data\n",
    "Ridge_in_test_peak = np.genfromtxt('Ridge_UV_in_test_peak.csv', delimiter=',')\n",
    "Ridge_out_test_peak = np.genfromtxt('Ridge_UV_out_test_peak.csv', delimiter=',')\n",
    "\n",
    "Tree_in_test_peak = np.genfromtxt('Tree_UV_in_test_peak.csv', delimiter=',')\n",
    "Tree_out_test_peak = np.genfromtxt('Tree_UV_out_test_peak.csv', delimiter=',')\n",
    "\n",
    "RF_in_test_peak = np.genfromtxt('RF_UV_in_test_peak.csv', delimiter=',')\n",
    "RF_out_test_peak = np.genfromtxt('RF_UV_out_test_peak.csv', delimiter=',')\n",
    "\n",
    "NN_in_test_peak = np.genfromtxt('NN_UV_in_test_peak.csv', delimiter=',')\n",
    "NN_out_test_peak = np.genfromtxt('NN_UV_out_test_peak.csv', delimiter=',')\n",
    "\n",
    "MCNN_in_test_peak = np.genfromtxt('MCNN_UV_in_test_peak.csv', delimiter=',')\n",
    "MCNN_out_test_peak = np.genfromtxt('MCNN_UV_out_test_peak.csv', delimiter=',')\n"
   ]
  },
  {
   "cell_type": "code",
   "execution_count": 5,
   "id": "1d529471",
   "metadata": {},
   "outputs": [
    {
     "name": "stdout",
     "output_type": "stream",
     "text": [
      "             Ridge      Tree        RF        NN      MCNN\n",
      "mae_in    0.072899  0.070327  0.061143  0.048249  0.047209\n",
      "r2_in     0.643963  0.674705  0.803295  0.849025  0.856395\n",
      "rae_in    0.553492  0.533962  0.464236  0.366339  0.358439\n",
      "rmse_in   0.094363  0.090197  0.070139  0.061448  0.059929\n",
      "mae_out   0.285500  0.075351  0.067511  0.129229  0.137246\n",
      "r2_out   -1.622456  0.768546  0.844969  0.192021  0.141255\n",
      "rae_out   1.724542  0.455153  0.407798  0.780599  0.829026\n",
      "rmse_out  0.322229  0.095729  0.078347  0.178859  0.184392\n"
     ]
    }
   ],
   "source": [
    "# creating the Numpy array\n",
    "Ridge = np.vstack((perf(Ridge_in_test_peak),perf(Ridge_out_test_peak)))\n",
    "Tree = np.vstack((perf(Tree_in_test_peak),perf(Tree_out_test_peak)))\n",
    "RF = np.vstack((perf(RF_in_test_peak),perf(RF_out_test_peak)))\n",
    "NN = np.vstack((perf(NN_in_test_peak),perf(NN_out_test_peak)))\n",
    "MCNN = np.vstack((perf(MCNN_in_test_peak),perf(MCNN_out_test_peak)))\n",
    "array = np.hstack((Ridge, Tree, RF, NN, MCNN))\n",
    "\n",
    "# creating a list of column names\n",
    "column_values = ['Ridge', 'Tree', 'RF', 'NN', 'MCNN']\n",
    "   \n",
    "# creating a list of index names\n",
    "index_values = ['mae_in', 'r2_in', 'rae_in', 'rmse_in', 'mae_out', 'r2_out', 'rae_out', 'rmse_out']\n",
    "  \n",
    "# creating the dataframe\n",
    "df = pd.DataFrame(data = array, \n",
    "                  index = index_values, \n",
    "                  columns = column_values)\n",
    "  \n",
    "# displaying the dataframe\n",
    "print(df)\n",
    "\n",
    "df.to_csv('12.5%_dataset_UV_peak.csv',index=True)"
   ]
  },
  {
   "cell_type": "code",
   "execution_count": null,
   "id": "2dfd6583",
   "metadata": {},
   "outputs": [],
   "source": []
  },
  {
   "cell_type": "code",
   "execution_count": null,
   "id": "49f0be67",
   "metadata": {},
   "outputs": [],
   "source": []
  }
 ],
 "metadata": {
  "kernelspec": {
   "display_name": "Python 3 (ipykernel)",
   "language": "python",
   "name": "python3"
  },
  "language_info": {
   "codemirror_mode": {
    "name": "ipython",
    "version": 3
   },
   "file_extension": ".py",
   "mimetype": "text/x-python",
   "name": "python",
   "nbconvert_exporter": "python",
   "pygments_lexer": "ipython3",
   "version": "3.9.12"
  }
 },
 "nbformat": 4,
 "nbformat_minor": 5
}
