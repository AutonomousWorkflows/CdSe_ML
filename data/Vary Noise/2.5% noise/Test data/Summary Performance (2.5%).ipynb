{
 "cells": [
  {
   "cell_type": "code",
   "execution_count": 6,
   "id": "33d50490",
   "metadata": {},
   "outputs": [],
   "source": [
    "import matplotlib\n",
    "import pandas as pd\n",
    "import numpy as np\n",
    "import matplotlib.pyplot as plt\n",
    "import seaborn as sb\n",
    "from sklearn import metrics"
   ]
  },
  {
   "cell_type": "code",
   "execution_count": 7,
   "id": "74d30194",
   "metadata": {},
   "outputs": [],
   "source": [
    "def rae(actual, predicted):\n",
    "    numerator = np.sum(np.abs(predicted - actual))\n",
    "    denominator = np.sum(np.abs(np.mean(actual) - actual))\n",
    "    return numerator / denominator"
   ]
  },
  {
   "cell_type": "code",
   "execution_count": 8,
   "id": "1013e34f",
   "metadata": {},
   "outputs": [],
   "source": [
    "def perf(matrix):\n",
    "    mae = metrics.mean_absolute_error(matrix[:,0], matrix[:,1])\n",
    "    r2 = metrics.r2_score(matrix[:,0], matrix[:,1])\n",
    "    rel = rae(matrix[:,0], matrix[:,1])\n",
    "    rmse = np.sqrt(metrics.mean_squared_error(matrix[:,0], matrix[:,1]))\n",
    "    return np.array([[mae],[r2],[rel],[rmse]])"
   ]
  },
  {
   "cell_type": "code",
   "execution_count": 9,
   "id": "1494eac3",
   "metadata": {},
   "outputs": [],
   "source": [
    "#Import Test data\n",
    "Ridge_in_test_peak = np.genfromtxt('Ridge_UV_in_test_peak.csv', delimiter=',')\n",
    "Ridge_out_test_peak = np.genfromtxt('Ridge_UV_out_test_peak.csv', delimiter=',')\n",
    "\n",
    "Tree_in_test_peak = np.genfromtxt('Tree_UV_in_test_peak.csv', delimiter=',')\n",
    "Tree_out_test_peak = np.genfromtxt('Tree_UV_out_test_peak.csv', delimiter=',')\n",
    "\n",
    "RF_in_test_peak = np.genfromtxt('RF_UV_in_test_peak.csv', delimiter=',')\n",
    "RF_out_test_peak = np.genfromtxt('RF_UV_out_test_peak.csv', delimiter=',')\n",
    "\n",
    "NN_in_test_peak = np.genfromtxt('NN_UV_in_test_peak.csv', delimiter=',')\n",
    "NN_out_test_peak = np.genfromtxt('NN_UV_out_test_peak.csv', delimiter=',')\n",
    "\n",
    "MCNN_in_test_peak = np.genfromtxt('MCNN_UV_in_test_peak.csv', delimiter=',')\n",
    "MCNN_out_test_peak = np.genfromtxt('MCNN_UV_out_test_peak.csv', delimiter=',')\n"
   ]
  },
  {
   "cell_type": "code",
   "execution_count": 10,
   "id": "1d529471",
   "metadata": {},
   "outputs": [
    {
     "name": "stdout",
     "output_type": "stream",
     "text": [
      "             Ridge      Tree        RF        NN      MCNN\n",
      "mae_in    0.066520  0.062173  0.056248  0.027287  0.025643\n",
      "r2_in     0.716500  0.740605  0.793998  0.955943  0.959612\n",
      "rae_in    0.505058  0.472058  0.427072  0.207182  0.194699\n",
      "rmse_in   0.084203  0.080544  0.071777  0.033194  0.031782\n",
      "mae_out   0.242677  0.049224  0.042486  0.049522  0.049900\n",
      "r2_out   -1.086207  0.892415  0.925282  0.898818  0.898322\n",
      "rae_out   1.465874  0.297336  0.256631  0.299136  0.301416\n",
      "rmse_out  0.287402  0.065266  0.054391  0.063294  0.063449\n"
     ]
    }
   ],
   "source": [
    "# creating the Numpy array\n",
    "Ridge = np.vstack((perf(Ridge_in_test_peak),perf(Ridge_out_test_peak)))\n",
    "Tree = np.vstack((perf(Tree_in_test_peak),perf(Tree_out_test_peak)))\n",
    "RF = np.vstack((perf(RF_in_test_peak),perf(RF_out_test_peak)))\n",
    "NN = np.vstack((perf(NN_in_test_peak),perf(NN_out_test_peak)))\n",
    "MCNN = np.vstack((perf(MCNN_in_test_peak),perf(MCNN_out_test_peak)))\n",
    "array = np.hstack((Ridge, Tree, RF, NN, MCNN))\n",
    "\n",
    "# creating a list of column names\n",
    "column_values = ['Ridge', 'Tree', 'RF', 'NN', 'MCNN']\n",
    "   \n",
    "# creating a list of index names\n",
    "index_values = ['mae_in', 'r2_in', 'rae_in', 'rmse_in', 'mae_out', 'r2_out', 'rae_out', 'rmse_out']\n",
    "  \n",
    "# creating the dataframe\n",
    "df = pd.DataFrame(data = array, \n",
    "                  index = index_values, \n",
    "                  columns = column_values)\n",
    "  \n",
    "# displaying the dataframe\n",
    "print(df)\n",
    "\n",
    "df.to_csv('2.5%_noise_UV_peak.csv',index=True)"
   ]
  },
  {
   "cell_type": "code",
   "execution_count": null,
   "id": "2dfd6583",
   "metadata": {},
   "outputs": [],
   "source": []
  },
  {
   "cell_type": "code",
   "execution_count": null,
   "id": "49f0be67",
   "metadata": {},
   "outputs": [],
   "source": []
  }
 ],
 "metadata": {
  "kernelspec": {
   "display_name": "Python 3 (ipykernel)",
   "language": "python",
   "name": "python3"
  },
  "language_info": {
   "codemirror_mode": {
    "name": "ipython",
    "version": 3
   },
   "file_extension": ".py",
   "mimetype": "text/x-python",
   "name": "python",
   "nbconvert_exporter": "python",
   "pygments_lexer": "ipython3",
   "version": "3.9.12"
  }
 },
 "nbformat": 4,
 "nbformat_minor": 5
}
